{
 "cells": [
  {
   "cell_type": "markdown",
   "id": "3d6b6e38-0aa0-4c7e-abca-a124b7508ab4",
   "metadata": {},
   "source": [
    "# Integracion Numerica\n",
    "## Metodo de Simpson 1/3"
   ]
  },
  {
   "cell_type": "markdown",
   "id": "c5fecbcd-f78e-4e94-aeb8-3ca86827421c",
   "metadata": {},
   "source": [
    "El metod de Simpson $\\frac{1}{3}$ esta definido por la siguiente ecuacion:\n",
    "\n",
    "$ \\int^{b}_{a}f(x)dx = \\frac{\\Delta x}{3} \\left[ f(x_{0})+2\\sum^{n-1}_{j=1}f(x_{2j})+4\\sum^{n}_{j=1}f(x_{2j-1})+f(x_{n}) \\right] $"
   ]
  },
  {
   "cell_type": "code",
   "execution_count": 1,
   "id": "33166be6-eb4a-41da-a0f6-9aa28ea031d0",
   "metadata": {},
   "outputs": [],
   "source": [
    "import math\n",
    "import numpy as np\n",
    "from matplotlib import pyplot as plt"
   ]
  },
  {
   "cell_type": "markdown",
   "id": "2db614d4-7936-4a66-94f5-2ac7b6c50d4e",
   "metadata": {},
   "source": [
    "### Ingreso de los datos"
   ]
  },
  {
   "cell_type": "code",
   "execution_count": 2,
   "id": "b8f1d6aa-7a31-49ba-a9af-1e4c28ff1cad",
   "metadata": {},
   "outputs": [
    {
     "name": "stdin",
     "output_type": "stream",
     "text": [
      "limite inferior:  0\n",
      "limite superior:  1\n",
      "numero de intervalos:  4\n"
     ]
    }
   ],
   "source": [
    "a = float(input('limite inferior: '))\n",
    "b = float(input('limite superior: '))\n",
    "n = int(input('numero de intervalos: '))"
   ]
  },
  {
   "cell_type": "markdown",
   "id": "311bff63-6ac8-405e-b4aa-47e4abb85920",
   "metadata": {},
   "source": [
    "### Iniciamos la funcion con la que vamos a trabajar"
   ]
  },
  {
   "cell_type": "code",
   "execution_count": 3,
   "id": "310a914d-f679-4d17-8e2c-f1b213e8beea",
   "metadata": {},
   "outputs": [],
   "source": [
    "def tfuncion(x):\n",
    "    return math.exp(x*x)"
   ]
  },
  {
   "cell_type": "code",
   "execution_count": 4,
   "id": "225d559c-1a89-4dbf-8a6b-7afc62bb0952",
   "metadata": {},
   "outputs": [],
   "source": [
    "fx = lambda x: np.exp(pow(x, 2))"
   ]
  },
  {
   "cell_type": "markdown",
   "id": "6b9209d3-a159-4417-9bbb-8996e5d98777",
   "metadata": {},
   "source": [
    "### Longitud de los intervalos\n",
    "$ h = \\frac{b-a}{n} $"
   ]
  },
  {
   "cell_type": "code",
   "execution_count": 5,
   "id": "57c6786c-eac8-4ba5-a2fc-d3db8b837d1f",
   "metadata": {},
   "outputs": [
    {
     "name": "stdout",
     "output_type": "stream",
     "text": [
      "longuitud de los intervalos:  0.25\n"
     ]
    }
   ],
   "source": [
    "h = (b-a)/n\n",
    "print('longuitud de los intervalos: ', h)"
   ]
  },
  {
   "cell_type": "markdown",
   "id": "1cd71de6-8727-4052-831e-43e37463e7bb",
   "metadata": {},
   "source": [
    "### Valor en los extremos\n",
    "$ x_{i} = a+i*h $"
   ]
  },
  {
   "cell_type": "code",
   "execution_count": 6,
   "id": "7115a6b3-8c8e-45d4-80c5-eaae339d100c",
   "metadata": {},
   "outputs": [
    {
     "name": "stdout",
     "output_type": "stream",
     "text": [
      "valor en los extremos:  [0.0, 0.25, 0.5, 0.75, 1.0]\n"
     ]
    }
   ],
   "source": [
    "xi = []\n",
    "i = 0\n",
    "while i<=n:\n",
    "    cal = a+i*h\n",
    "    xi.append(cal)\n",
    "    i += 1\n",
    "print('valor en los extremos: ', xi)"
   ]
  },
  {
   "cell_type": "markdown",
   "id": "44f134c7-778f-4381-b922-fb196c68d27c",
   "metadata": {},
   "source": [
    "## Graficamos la funcion\n",
    "Grafica de la funcion y el valor de los puntos en los extremos para un mejor entendimiento del problema"
   ]
  },
  {
   "cell_type": "code",
   "execution_count": 12,
   "id": "dfe01c84-7ccd-48d2-8d69-b87a17000523",
   "metadata": {},
   "outputs": [
    {
     "data": {
      "image/png": "[encoded data removed]",
      "text/plain": [
       "<Figure size 432x288 with 1 Axes>"
      ]
     },
     "metadata": {
      "needs_background": "light"
     },
     "output_type": "display_data"
    }
   ],
   "source": [
    "valor = np.linspace(a, b, 100)\n",
    "fvalor = fx(valor)\n",
    "\n",
    "xii = []\n",
    "for i in xi:\n",
    "    res = fx(i)\n",
    "    xii.append(res)\n",
    "\n",
    "plt.plot(xi,xii,'ro')\n",
    "plt.plot(valor,fx(valor))\n",
    "plt.show()"
   ]
  },
  {
   "cell_type": "markdown",
   "id": "b441ccd6-9605-4486-9304-fa2ebbe736f8",
   "metadata": {},
   "source": [
    "### Calculo de los terminos que se sumaran en la ecuacion\n",
    "se calculan por separado los terminos que se utilizan en la ecuacion, empzando por el termino $f(x_{0})$, luego el termino $f(x_{n})$ y los terminos pares e impares de los extremos obtenidos."
   ]
  },
  {
   "cell_type": "code",
   "execution_count": 16,
   "id": "20b9da82-9106-42b1-8811-b83486bf0ab2",
   "metadata": {},
   "outputs": [],
   "source": [
    "fxi = fx(xi[0])"
   ]
  },
  {
   "cell_type": "code",
   "execution_count": 29,
   "id": "992a1848-a221-4aa6-b079-709f7d0adeea",
   "metadata": {},
   "outputs": [],
   "source": [
    "suma_par = 0\n",
    "xpar = 1\n",
    "while xpar*2<=n-1:\n",
    "    suma_par = suma_par + 2*fx(xi[xpar*2])\n",
    "    xpar += 1"
   ]
  },
  {
   "cell_type": "code",
   "execution_count": 30,
   "id": "2c2c70b8-3740-486e-9856-89d36a884980",
   "metadata": {},
   "outputs": [],
   "source": [
    "suma_impar = 0\n",
    "ximp = 1\n",
    "while ximp*2-1<=n:\n",
    "    suma_impar = suma_impar + 4*fx(xi[ximp*2-1])\n",
    "    ximp += 1"
   ]
  },
  {
   "cell_type": "code",
   "execution_count": 27,
   "id": "f14b3d44-d352-434f-acd5-455b2af47c7a",
   "metadata": {},
   "outputs": [],
   "source": [
    "fxf = fx(xi[-1])"
   ]
  },
  {
   "cell_type": "markdown",
   "id": "2ed87e58-1f5b-463b-a831-c5be5542aabe",
   "metadata": {},
   "source": [
    "La suma total de los terminos es"
   ]
  },
  {
   "cell_type": "code",
   "execution_count": 34,
   "id": "a6b46052-7068-4d13-a8da-7bd5c6726e6e",
   "metadata": {},
   "outputs": [
    {
     "name": "stdout",
     "output_type": "stream",
     "text": [
      "17.56452912534716\n"
     ]
    }
   ],
   "source": [
    "suma_total = fxi+suma_impar+suma_par+fxf\n",
    "print(suma_total)"
   ]
  },
  {
   "cell_type": "markdown",
   "id": "bad2ed03-8d69-447a-a764-06c31d42ae0b",
   "metadata": {},
   "source": [
    "### Al evaluar toda la expresion tenemos\n",
    "Obtenemos el area bajo la curva al evaluar toda la expresion del metoso de Simpson 1/3"
   ]
  },
  {
   "cell_type": "code",
   "execution_count": 36,
   "id": "8342c214-438b-4eae-aec1-3142e0b6c05f",
   "metadata": {},
   "outputs": [
    {
     "name": "stdout",
     "output_type": "stream",
     "text": [
      "1.4637107604455966\n"
     ]
    }
   ],
   "source": [
    "area = (h/3)*suma_total\n",
    "print(area)"
   ]
  },
  {
   "cell_type": "code",
   "execution_count": null,
   "id": "5c761ddc-caff-4fc7-932e-3dac4c1d1032",
   "metadata": {},
   "outputs": [],
   "source": []
  }
 ],
 "metadata": {
  "kernelspec": {
   "display_name": "Python 3 (ipykernel)",
   "language": "python",
   "name": "python3"
  },
  "language_info": {
   "codemirror_mode": {
    "name": "ipython",
    "version": 3
   },
   "file_extension": ".py",
   "mimetype": "text/x-python",
   "name": "python",
   "nbconvert_exporter": "python",
   "pygments_lexer": "ipython3",
   "version": "3.8.12"
  }
 },
 "nbformat": 4,
 "nbformat_minor": 5
}
