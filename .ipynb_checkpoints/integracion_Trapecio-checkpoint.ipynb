{
 "cells": [
  {
   "cell_type": "markdown",
   "id": "e0bc3c5d-bd53-42aa-b937-28ce56ad2071",
   "metadata": {},
   "source": [
    "# Metodo de integracion numerica\n",
    "\n",
    "## Metodo de Trapecio"
   ]
  },
  {
   "cell_type": "code",
   "execution_count": 1,
   "id": "53902a71-bb9f-4c87-974d-994d4c9b55a2",
   "metadata": {},
   "outputs": [],
   "source": [
    "import math"
   ]
  },
  {
   "cell_type": "markdown",
   "id": "5e6905bb-766c-4f44-bc66-2ad7d8297535",
   "metadata": {},
   "source": [
    "Ingreso de los datos"
   ]
  },
  {
   "cell_type": "code",
   "execution_count": 2,
   "id": "7310945b-0a1a-4041-85d4-813a45806506",
   "metadata": {},
   "outputs": [
    {
     "name": "stdout",
     "output_type": "stream",
     "text": [
      "limite inferior: 0\n",
      "limite superior: 1\n",
      "numero de intervalos: 5\n"
     ]
    }
   ],
   "source": [
    "a = float(input('limite inferior: '))\n",
    "b = float(input('limite superior: '))\n",
    "n = int(input('numero de intervalos: '))"
   ]
  },
  {
   "cell_type": "markdown",
   "id": "99807dcd-3f47-4052-ae91-69790d3e8f32",
   "metadata": {},
   "source": [
    "Funcion"
   ]
  },
  {
   "cell_type": "code",
   "execution_count": 3,
   "id": "f871bfce-fcb0-4e7d-a788-04c9148bde1f",
   "metadata": {},
   "outputs": [],
   "source": [
    "def tfuncion(x):\n",
    "    return math.exp(x*x)"
   ]
  },
  {
   "cell_type": "markdown",
   "id": "87606d11-5636-43db-a6dd-625dd0a61367",
   "metadata": {},
   "source": [
    "Longuitud de los intervalos"
   ]
  },
  {
   "cell_type": "code",
   "execution_count": 4,
   "id": "47d7a54f-128e-43f6-860f-76127e641fc5",
   "metadata": {},
   "outputs": [
    {
     "name": "stdout",
     "output_type": "stream",
     "text": [
      "longuitud de los intervalos:  0.2\n"
     ]
    }
   ],
   "source": [
    "Dx = (b-a)/n\n",
    "print('longuitud de los intervalos: ', Dx)"
   ]
  },
  {
   "cell_type": "markdown",
   "id": "322a93fb-9f2b-4b14-9c81-7289589d953a",
   "metadata": {},
   "source": [
    "Valor en los extremos"
   ]
  },
  {
   "cell_type": "code",
   "execution_count": 5,
   "id": "8858678f-c195-482e-80f6-4a8103c8bdbb",
   "metadata": {},
   "outputs": [
    {
     "name": "stdout",
     "output_type": "stream",
     "text": [
      "valor en los extremos:  [0.0, 0.2, 0.4, 0.6000000000000001, 0.8, 1.0]\n"
     ]
    }
   ],
   "source": [
    "xi = []\n",
    "i = 0\n",
    "while i<=n:\n",
    "    cal = a+i*Dx\n",
    "    xi.append(cal)\n",
    "    i += 1\n",
    "print('valor en los extremos: ', xi)"
   ]
  },
  {
   "cell_type": "markdown",
   "id": "2bb6af41-bf40-4494-92b7-19535643488b",
   "metadata": {},
   "source": [
    "Calculo de los tracpecios"
   ]
  },
  {
   "cell_type": "code",
   "execution_count": 6,
   "id": "e64da4d7-49f3-419e-8d63-f2f95b48ec6e",
   "metadata": {},
   "outputs": [],
   "source": [
    "area = 0\n",
    "for i in range(0, n):\n",
    "    aT = (tfuncion(xi[i])+tfuncion(xi[i+1]))/2\n",
    "    T = Dx*aT\n",
    "    area = area + T"
   ]
  },
  {
   "cell_type": "code",
   "execution_count": 7,
   "id": "5ee0ab55-263f-4d54-83e8-e485dc5ea42d",
   "metadata": {},
   "outputs": [
    {
     "name": "stdout",
     "output_type": "stream",
     "text": [
      "1.4806545706558027\n"
     ]
    }
   ],
   "source": [
    "print(area)"
   ]
  },
  {
   "cell_type": "code",
   "execution_count": null,
   "id": "fc254a0f-cda3-4453-a909-7b5e289ac9fe",
   "metadata": {},
   "outputs": [],
   "source": []
  }
 ],
 "metadata": {
  "kernelspec": {
   "display_name": "Python 3 (ipykernel)",
   "language": "python",
   "name": "python3"
  },
  "language_info": {
   "codemirror_mode": {
    "name": "ipython",
    "version": 3
   },
   "file_extension": ".py",
   "mimetype": "text/x-python",
   "name": "python",
   "nbconvert_exporter": "python",
   "pygments_lexer": "ipython3",
   "version": "3.8.12"
  }
 },
 "nbformat": 4,
 "nbformat_minor": 5
}
